{
 "cells": [
  {
   "cell_type": "code",
   "execution_count": 1,
   "id": "fe45a44f",
   "metadata": {},
   "outputs": [],
   "source": [
    "import torch\n",
    "from model import ColaModel\n",
    "from data import DataModule"
   ]
  },
  {
   "cell_type": "code",
   "execution_count": 2,
   "id": "9719836e",
   "metadata": {},
   "outputs": [],
   "source": [
    "class ColaPredictor:\n",
    "    def __init__(self, model_path):\n",
    "        self.model_path = model_path\n",
    "        self.model = ColaModel.load_from_checkpoint(model_path)\n",
    "        self.model.eval()\n",
    "        self.model.freeze()\n",
    "        self.processor = DataModule()\n",
    "        self.softmax = torch.nn.Softmax(dim=0)\n",
    "        self.lables = [\"unacceptable\", \"acceptable\"]\n",
    "\n",
    "    def predict(self, text):\n",
    "        inference_sample = {\"sentence\": text}\n",
    "        processed = self.processor.tokenize_data(inference_sample)\n",
    "        logits = self.model(\n",
    "            torch.tensor([processed[\"input_ids\"]]),\n",
    "            torch.tensor([processed[\"attention_mask\"]]),\n",
    "        )\n",
    "        scores = self.softmax(logits[0]).tolist()\n",
    "        predictions = []\n",
    "        for score, label in zip(scores, self.lables):\n",
    "            predictions.append({\"label\": label, \"score\": score})\n",
    "        return predictions"
   ]
  },
  {
   "cell_type": "code",
   "execution_count": 3,
   "id": "506b5de7",
   "metadata": {},
   "outputs": [
    {
     "name": "stdout",
     "output_type": "stream",
     "text": [
      "[{'label': 'unacceptable', 'score': 0.2905541956424713}, {'label': 'acceptable', 'score': 0.7094458341598511}]\n"
     ]
    }
   ],
   "source": [
    "if __name__ == \"__main__\":\n",
    "    sentence = \"The boy is sitting on a bench\"\n",
    "    predictor = ColaPredictor(\"./models/epoch=1-step=535.ckpt\")\n",
    "    print(predictor.predict(sentence))"
   ]
  },
  {
   "cell_type": "code",
   "execution_count": null,
   "id": "7c0d5169",
   "metadata": {},
   "outputs": [],
   "source": []
  }
 ],
 "metadata": {
  "kernelspec": {
   "display_name": "Python 3 (ipykernel)",
   "language": "python",
   "name": "python3"
  },
  "language_info": {
   "codemirror_mode": {
    "name": "ipython",
    "version": 3
   },
   "file_extension": ".py",
   "mimetype": "text/x-python",
   "name": "python",
   "nbconvert_exporter": "python",
   "pygments_lexer": "ipython3",
   "version": "3.9.7"
  }
 },
 "nbformat": 4,
 "nbformat_minor": 5
}
