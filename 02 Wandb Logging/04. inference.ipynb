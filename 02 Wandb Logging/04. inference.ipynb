{
 "cells": [
  {
   "cell_type": "code",
   "execution_count": 2,
   "id": "c1a8726b",
   "metadata": {},
   "outputs": [],
   "source": [
    "import torch\n",
    "from model import ColaModel\n",
    "from data import DataModule"
   ]
  },
  {
   "cell_type": "code",
   "execution_count": 3,
   "id": "76026b88",
   "metadata": {},
   "outputs": [],
   "source": [
    "class ColaPredictor:\n",
    "    def __init__(self, model_path):\n",
    "        self.model_path = model_path\n",
    "        self.model = ColaModel.load_from_checkpoint(model_path)\n",
    "        self.model.eval()\n",
    "        self.model.freeze()\n",
    "        self.processor = DataModule()\n",
    "        self.softmax = torch.nn.Softmax(dim=0)\n",
    "        self.lables = [\"unacceptable\", \"acceptable\"]\n",
    "\n",
    "    def predict(self, text):\n",
    "        inference_sample = {\"sentence\": text}\n",
    "        processed = self.processor.tokenize_data(inference_sample)\n",
    "        logits = self.model(\n",
    "            torch.tensor([processed[\"input_ids\"]]),\n",
    "            torch.tensor([processed[\"attention_mask\"]]),\n",
    "        )\n",
    "        scores = self.softmax(logits[0]).tolist()\n",
    "        predictions = []\n",
    "        for score, label in zip(scores, self.lables):\n",
    "            predictions.append({\"label\": label, \"score\": score})\n",
    "        return predictions"
   ]
  },
  {
   "cell_type": "code",
   "execution_count": 4,
   "id": "a871cbd6",
   "metadata": {},
   "outputs": [
    {
     "name": "stderr",
     "output_type": "stream",
     "text": [
      "Some weights of the model checkpoint at google/bert_uncased_L-2_H-128_A-2 were not used when initializing BertForSequenceClassification: ['cls.predictions.bias', 'cls.predictions.transform.dense.weight', 'cls.predictions.transform.dense.bias', 'cls.predictions.transform.LayerNorm.weight', 'cls.predictions.transform.LayerNorm.bias', 'cls.predictions.decoder.weight', 'cls.predictions.decoder.bias', 'cls.seq_relationship.weight', 'cls.seq_relationship.bias']\n",
      "- This IS expected if you are initializing BertForSequenceClassification from the checkpoint of a model trained on another task or with another architecture (e.g. initializing a BertForSequenceClassification model from a BertForPreTraining model).\n",
      "- This IS NOT expected if you are initializing BertForSequenceClassification from the checkpoint of a model that you expect to be exactly identical (initializing a BertForSequenceClassification model from a BertForSequenceClassification model).\n",
      "Some weights of BertForSequenceClassification were not initialized from the model checkpoint at google/bert_uncased_L-2_H-128_A-2 and are newly initialized: ['classifier.weight', 'classifier.bias']\n",
      "You should probably TRAIN this model on a down-stream task to be able to use it for predictions and inference.\n"
     ]
    },
    {
     "name": "stdout",
     "output_type": "stream",
     "text": [
      "[{'label': 'unacceptable', 'score': [1.0, 1.0]}]\n"
     ]
    }
   ],
   "source": [
    "if __name__ == \"__main__\":\n",
    "    sentence = \"The boy is sitting on a bench\"\n",
    "    predictor = ColaPredictor(\"./models/best-checkpoint.ckpt.ckpt\")\n",
    "    print(predictor.predict(sentence))"
   ]
  },
  {
   "cell_type": "code",
   "execution_count": null,
   "id": "bee6bc67",
   "metadata": {},
   "outputs": [],
   "source": []
  }
 ],
 "metadata": {
  "kernelspec": {
   "display_name": "Python 3 (ipykernel)",
   "language": "python",
   "name": "python3"
  },
  "language_info": {
   "codemirror_mode": {
    "name": "ipython",
    "version": 3
   },
   "file_extension": ".py",
   "mimetype": "text/x-python",
   "name": "python",
   "nbconvert_exporter": "python",
   "pygments_lexer": "ipython3",
   "version": "3.9.7"
  }
 },
 "nbformat": 4,
 "nbformat_minor": 5
}
